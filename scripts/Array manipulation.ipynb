{
 "cells": [
  {
   "cell_type": "markdown",
   "id": "5c581e1e",
   "metadata": {},
   "source": [
    "# Basic array manipulation"
   ]
  },
  {
   "cell_type": "code",
   "execution_count": 1,
   "id": "4ee9a871",
   "metadata": {},
   "outputs": [],
   "source": [
    "import numpy as np\n",
    "import awkward as ak"
   ]
  },
  {
   "cell_type": "code",
   "execution_count": 3,
   "id": "d385b471",
   "metadata": {},
   "outputs": [],
   "source": [
    "muon_pt = ak.Array([\n",
    "    [20,10],\n",
    "    [],\n",
    "    [15],\n",
    "    [5]\n",
    "])"
   ]
  },
  {
   "cell_type": "code",
   "execution_count": 4,
   "id": "38c1b202",
   "metadata": {},
   "outputs": [
    {
     "data": {
      "text/plain": [
       "<Array [[20, 10], [], [15], [5]] type='4 * var * int64'>"
      ]
     },
     "execution_count": 4,
     "metadata": {},
     "output_type": "execute_result"
    }
   ],
   "source": [
    "muon_pt"
   ]
  },
  {
   "cell_type": "code",
   "execution_count": 6,
   "id": "cf44aba7",
   "metadata": {},
   "outputs": [
    {
     "data": {
      "text/plain": [
       "<Array [[True, True], [], [True], [False]] type='4 * var * bool'>"
      ]
     },
     "execution_count": 6,
     "metadata": {},
     "output_type": "execute_result"
    }
   ],
   "source": [
    "muon_pt>5"
   ]
  },
  {
   "cell_type": "code",
   "execution_count": 9,
   "id": "69412c44",
   "metadata": {},
   "outputs": [],
   "source": [
    "selection = muon_pt>5"
   ]
  },
  {
   "cell_type": "code",
   "execution_count": 8,
   "id": "22924aee",
   "metadata": {},
   "outputs": [
    {
     "data": {
      "text/plain": [
       "<Array [[20, 10], [], [15], []] type='4 * var * int64'>"
      ]
     },
     "execution_count": 8,
     "metadata": {},
     "output_type": "execute_result"
    }
   ],
   "source": [
    "muon_pt[selection]"
   ]
  },
  {
   "cell_type": "code",
   "execution_count": 10,
   "id": "be3dc045",
   "metadata": {},
   "outputs": [
    {
     "data": {
      "text/plain": [
       "<Array [2, 0, 1, 1] type='4 * int64'>"
      ]
     },
     "execution_count": 10,
     "metadata": {},
     "output_type": "execute_result"
    }
   ],
   "source": [
    "ak.num(muon_pt)"
   ]
  },
  {
   "cell_type": "code",
   "execution_count": 11,
   "id": "6afcb7cb",
   "metadata": {},
   "outputs": [
    {
     "data": {
      "text/plain": [
       "<Array [True, False, True, False] type='4 * bool'>"
      ]
     },
     "execution_count": 11,
     "metadata": {},
     "output_type": "execute_result"
    }
   ],
   "source": [
    "ak.any(selection,axis=1)"
   ]
  },
  {
   "cell_type": "code",
   "execution_count": 12,
   "id": "b4f13da3",
   "metadata": {},
   "outputs": [
    {
     "data": {
      "text/plain": [
       "2"
      ]
     },
     "execution_count": 12,
     "metadata": {},
     "output_type": "execute_result"
    }
   ],
   "source": [
    "ak.sum(ak.any(selection,axis=1))"
   ]
  }
 ],
 "metadata": {
  "kernelspec": {
   "display_name": "Python 3 (ipykernel)",
   "language": "python",
   "name": "python3"
  },
  "language_info": {
   "codemirror_mode": {
    "name": "ipython",
    "version": 3
   },
   "file_extension": ".py",
   "mimetype": "text/x-python",
   "name": "python",
   "nbconvert_exporter": "python",
   "pygments_lexer": "ipython3",
   "version": "3.9.12"
  }
 },
 "nbformat": 4,
 "nbformat_minor": 5
}
