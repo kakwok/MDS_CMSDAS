{
 "cells": [
  {
   "cell_type": "code",
   "execution_count": null,
   "metadata": {},
   "outputs": [],
   "source": [
    "import coffea\n",
    "import coffea.hist as hist\n",
    "import uproot\n",
    "import matplotlib.pyplot as plt\n",
    "import mplhep as hep\n",
    "import numpy as np\n",
    "\n",
    "import awkward as ak\n",
    "\n",
    "from sklearn.cluster import DBSCAN\n",
    "\n",
    "from coffea.nanoevents import NanoEventsFactory, NanoAODSchema,BaseSchema"
   ]
  },
  {
   "cell_type": "code",
   "execution_count": null,
   "metadata": {},
   "outputs": [],
   "source": [
    "from collections import OrderedDict"
   ]
  },
  {
   "cell_type": "markdown",
   "metadata": {},
   "source": [
    "# Ex0: Load ntuples\n",
    "Here we will load ntuples for signal and data (high-MET skim), where the clusters are already reconstructed and stored in the ntuples.\n",
    "\n",
    "We will use these ntuples to plot some of the key variables that will used to veto background clusters"
   ]
  },
  {
   "cell_type": "code",
   "execution_count": null,
   "metadata": {},
   "outputs": [],
   "source": [
    "fpath={}\n",
    "tree ={}\n",
    "\n",
    "\n",
    "# load high-MET skim data\n",
    "path = '/eos/uscms/store/user/cmsdas/2025/long_exercises/MDS/data/'\n",
    "fpath['data'] = path + 'Run2_displacedJetMuonNtupler_V1p17_Data2016_Data2017_Data2018-HighMET_goodLumi.root'\n",
    "\n",
    "mass = [40]\n",
    "OLD_CTAU = np.array([1000, 10000, 100000])#in mm\n",
    "\n",
    "path = '/eos/uscms/store/user/cmsdas/2025/long_exercises/MDS/signal/nocuts/'\n",
    "\n",
    "for m in mass:\n",
    "    for ct in OLD_CTAU:\n",
    "        key = 'MC_'+str(m)+'_'+str(ct)                       \n",
    "        fpath[key] = path +  'ggH_HToSSTobbbb_MH-125_MS-40_ctau-'+str(ct)+'_137000pb_weighted.root'\n",
    "        \n",
    "        \n",
    "for k,v in fpath.items():\n",
    "    tree[k] = NanoEventsFactory.from_root(v,\n",
    "                                   schemaclass=BaseSchema,\n",
    "                                   treepath=\"MuonSystem\"\n",
    "                                  ).events()"
   ]
  },
  {
   "cell_type": "markdown",
   "metadata": {},
   "source": [
    "# Trigger selection\n",
    "\n",
    "Trigger selection is the beginning of any CMS analysis. \n",
    "\n",
    "We are using `MET > 200 GeV` due to the lack of dedicated trigger on the MDS object. \n",
    "\n",
    "As a result, in order for signal events to pass the large MET trigger \n",
    " - the Higgs is recoiled against a high pT jet\n",
    " - the large pT of Higgs creates the MET as it decays\n",
    " - the trigger efficiency is low\n",
    " \n",
    "You will try to confirm this for yourself first.\n",
    "\n",
    " - Use the `met` branch to access the reconstructed MET\n",
    " - Use the `gHiggsPt` branch to access the generated Higgs pT for  "
   ]
  },
  {
   "cell_type": "markdown",
   "metadata": {},
   "source": [
    "# Ex: Trigger efficiency for signals"
   ]
  },
  {
   "cell_type": "code",
   "execution_count": null,
   "metadata": {},
   "outputs": [],
   "source": [
    "plt.style.use(hep.style.CMS)  "
   ]
  },
  {
   "cell_type": "code",
   "execution_count": null,
   "metadata": {},
   "outputs": [],
   "source": [
    "h_MET= hist.Hist(\"Events\",\n",
    "              hist.Cat(\"sample\",\"sample\"), \n",
    "              hist.Bin(\"met\", \"MET[GeV]\", 50, 0, 500)\n",
    "             )\n",
    "\n",
    "for m in mass:\n",
    "    for ct in OLD_CTAU:\n",
    "        # Fill the histogram h_MET with all the signals\n",
    "        \n",
    "ax = hist.plot1d(h_MET,density=True)\n",
    "ax.set_ylabel(\"Fraction of events / bin width\")\n",
    "hep.cms.label(ax=ax,label=\"Preliminary\") "
   ]
  },
  {
   "cell_type": "markdown",
   "metadata": {},
   "source": [
    "# Q: What is the signal efficiencies for MET>200 GeV?\n",
    "\n",
    " - Use the following function `integral` the dense axes from `thres_lo` to infinity\n",
    " - Use the function `integral_low` the dense axes from lower bound to thres_high (for later pat"
   ]
  },
  {
   "cell_type": "code",
   "execution_count": null,
   "metadata": {},
   "outputs": [],
   "source": [
    "#  Integral the dense axes from thres_lo to infinity\n",
    "def integral(h,sample,thres_lo):\n",
    "    \n",
    "    dense_axis = h.dense_axes()[0]\n",
    "    name = h.dense_axes()[0].name\n",
    "    \n",
    "    numer = h.integrate(\"sample\",sample).integrate(name,slice(thres_lo,None),overflow=\"over\").values()[()]\n",
    "    denom = h.integrate(\"sample\",sample).sum(name,overflow=\"over\").values()[()]    \n",
    "    \n",
    "    return numer/denom\n",
    "\n",
    "#  Integral the dense axes from 0 to thres_high\n",
    "def integral_low(h,sample,thres_high):\n",
    "    \n",
    "    name = h.dense_axes()[0].name\n",
    "\n",
    "    numer = h.integrate(\"sample\",sample).integrate(name,slice(None,thres_high)).values()[()]\n",
    "    denom = h.integrate(\"sample\",sample).sum(name,overflow=\"over\").values()[()]    \n",
    "\n",
    "    return numer/denom"
   ]
  },
  {
   "cell_type": "code",
   "execution_count": null,
   "metadata": {},
   "outputs": [],
   "source": [
    "h.dense_axes()[0].edges()[0]"
   ]
  },
  {
   "cell_type": "code",
   "execution_count": null,
   "metadata": {},
   "outputs": [],
   "source": [
    "# Choose from the following bin edges\n",
    "h_MET.axis(\"met\").edges()"
   ]
  },
  {
   "cell_type": "code",
   "execution_count": null,
   "metadata": {},
   "outputs": [],
   "source": [
    "for m in mass:\n",
    "    for ct in OLD_CTAU:\n",
    "        sample = 'MC_'+str(m)+'_'+str(ct) \n",
    "        # Fill the code\n",
    "        eff = integral(h_MET,sample,200)/integral(h_MET,sample,0)\n",
    "        print(\"sample = %s, eff(MET>200) = %.5f \"%(sample, eff))"
   ]
  },
  {
   "cell_type": "markdown",
   "metadata": {},
   "source": [
    "# Ex: Plot the MET and Higgs pT for signals\n",
    "\n",
    " - Focus on the region beyond 200 GeV\n",
    " - Q: What do you observe?"
   ]
  },
  {
   "cell_type": "code",
   "execution_count": null,
   "metadata": {},
   "outputs": [],
   "source": [
    "h= hist.Hist(\"Events\",\n",
    "              hist.Cat(\"var\",\"Variable\"), \n",
    "              hist.Bin(\"pT\", \"MET/Higgs pT[GeV]\", 50, 200, 1200)\n",
    "             )\n",
    "\n",
    "sample = \"MC_40_1000\"\n",
    "# Fill the code\n",
    "h.fill(var = \"MET\", pT = tree[sample].met )\n",
    "h.fill(var = \"Higgs pT\", pT = tree[sample].gHiggsPt )\n",
    "        \n",
    "ax = hist.plot1d(h,density=True)\n",
    "ax.legend(title = sample)\n",
    "ax.set_ylabel(\"Fraction of events / bin width\")\n",
    "hep.cms.label(ax=ax,label=\"Preliminary\") "
   ]
  },
  {
   "cell_type": "markdown",
   "metadata": {},
   "source": [
    "# Event selections\n",
    "\n",
    "The event selections for this search are kept at minimal to be as model independent as possible. \n",
    "\n",
    "The full event-level selections are \n",
    " - MET trigger \n",
    " - offline MET > 200 GeV\n",
    " - MET filters (make sure MET is not badly reconstructed)\n",
    "\n",
    "For the ISR jet, the selections are\n",
    " - pT > 30 GeV\n",
    " - abs($\\eta$) < 2.4\n",
    " - Pass tight jet Id"
   ]
  },
  {
   "cell_type": "code",
   "execution_count": null,
   "metadata": {},
   "outputs": [],
   "source": [
    "def select_events(events,isData=False):\n",
    "    \n",
    "    ########### SELECTION: CLUSTERS ############\n",
    "    ### At least 1 cluster (decay in CSC and matched to LLP for signal)\n",
    "    ###\n",
    "    if isData:\n",
    "        sel_clusters = (events.cscRechitClusterSize)>0\n",
    "    else:\n",
    "        sel_clusters = (events.cscRechitCluster_match_gLLP==True) & (events.cscRechitCluster_match_gLLP_csc==True)\n",
    "\n",
    "    ########### SELECTION: JETS ############\n",
    "    sel_jet = (events.jetPt > 30) &\\\n",
    "              (abs(events.jetEta)<2.4) &\\\n",
    "              (events.jetTightPassId==True)\n",
    "    \n",
    "    ########### SELECTION: events ############\n",
    "    # at least 1 selected cluster and jets\n",
    "    sel_ev =  (events.METTrigger==True) &\\\n",
    "              (events.met>200) &\\\n",
    "              (events.metFilters==True) &\\\n",
    "              (ak.sum(sel_jet,axis=1)>=1) &\\\n",
    "              (ak.sum(sel_clusters,axis=1)>0)   \n",
    "    \n",
    "    return sel_clusters, sel_jet, sel_ev"
   ]
  },
  {
   "cell_type": "code",
   "execution_count": null,
   "metadata": {},
   "outputs": [],
   "source": [
    "events = tree['data']"
   ]
  },
  {
   "cell_type": "code",
   "execution_count": null,
   "metadata": {},
   "outputs": [],
   "source": [
    "ak.sum(sel_clusters,axis=1)"
   ]
  },
  {
   "cell_type": "code",
   "execution_count": null,
   "metadata": {},
   "outputs": [],
   "source": [
    "sel_clusters, sel_jet, sel_ev = select_events(events)"
   ]
  },
  {
   "cell_type": "markdown",
   "metadata": {},
   "source": [
    "# Cluster level selections\n",
    "\n",
    "Aside from the MDS shower, there are not many handles in the events to reject background events.\n",
    "\n",
    "Afterall, we only expect the shower, MET and an ISR jet in the signal events. \n",
    "\n",
    "Therefore, we will focus on using the MDS object features to enhance the signal to background ratio.  \n",
    "\n",
    "First, we need to remove objects from the SM that could also create showers in the muon system. \n",
    "\n",
    " - Punch-through jets\n",
    " - high pT muons"
   ]
  },
  {
   "cell_type": "markdown",
   "metadata": {},
   "source": [
    "\n",
    "The dominant background from the main collision comes from punch-through jets that are not fully contained in the calorimeters and high pT muons that could create bremsstrahlung showers in the muon detectors. \n",
    "\n",
    "To remove those background, we reject clusters by matching them to reconstructed jets and muon. \n",
    "\n",
    "The pT of the jet/muon that the cluster is matched to are saved in objects called `cscRechitClusterJetVetoPt` \n",
    "and `cscRechitClusterMuonVetoPt`. \n",
    "\n",
    "In this exercise you will plot the two variables for signal and background and apply a selection on the two variables to remove clusters from jets and muons."
   ]
  },
  {
   "cell_type": "markdown",
   "metadata": {},
   "source": [
    "# Ex1 - plot jet veto and muon veto\n",
    "\n",
    " - Access the jet veto pT with `cscRechitClusterJetVetoPt`\n",
    " - Access the muon veto pT with `cscRechitClusterMuonVeto`"
   ]
  },
  {
   "cell_type": "code",
   "execution_count": null,
   "metadata": {},
   "outputs": [],
   "source": [
    "nBins    = 50\n",
    "bin_lo   = 0 \n",
    "bin_high = 500 \n",
    "\n",
    "h = hist.Hist(\"Events\",\n",
    "              hist.Cat(\"sample\",\"sample\"), \n",
    "              hist.Bin(\"pt\", \"Jet veto pT[GeV]\", nBins, bin_lo, bin_high)\n",
    "             )\n",
    "\n",
    "for i, sample in enumerate(tree.keys()):\n",
    "    \n",
    "    #See if we are treating data\n",
    "    isData = True if (\"data\" in sample) else False\n",
    "    \n",
    "    # build the selection arrays\n",
    "    sel_clusters, sel_jet, sel_ev = select_events(tree[sample],isData)\n",
    "\n",
    "    # get the Jet veto Pt\n",
    "    VetoPt = tree[sample].cscRechitClusterJetVetoPt\n",
    "    \n",
    "    # Event and cluster selections (make sure we have a cluster [and matched to LLP in CSC] )\n",
    "    VetoPt = VetoPt[(sel_clusters) &(sel_ev)]\n",
    "    \n",
    "    # Select the VetoPt of the largest cluster \n",
    "    # fill_none puts -1 for events without clusters that satisfy the cluster cuts\n",
    "    VetoPt = ak.fill_none(ak.firsts(VetoPt,axis=1),-1 ) \n",
    "    \n",
    "    h.fill(sample=sample,pt=VetoPt)"
   ]
  },
  {
   "cell_type": "code",
   "execution_count": null,
   "metadata": {},
   "outputs": [],
   "source": [
    "ax = hist.plot1d(h,density=True)\n",
    "ax.set_ylabel(\"Fraction of events / bin width\")\n",
    "ax.set_yscale(\"log\")\n",
    "ax.set_ylim(1e-3,0.1)\n",
    "hep.cms.label(ax=ax,label=\"Preliminary\") "
   ]
  },
  {
   "cell_type": "markdown",
   "metadata": {},
   "source": [
    "# Q: What are the efficiencies Jet veto pT < 10 GeV?"
   ]
  },
  {
   "cell_type": "code",
   "execution_count": null,
   "metadata": {},
   "outputs": [],
   "source": [
    "# Hint: use integral_low and integral\n",
    "\n",
    "for i, sample in enumerate(tree.keys()):\n",
    "    # Fill code here\n",
    "    eff = integral_low(h,sample,10)/integral(h,sample,0)\n",
    "    print(\"sample = %s, eff(VetoPT<10) = %.5f \"%(sample, eff))"
   ]
  },
  {
   "cell_type": "markdown",
   "metadata": {},
   "source": [
    "# Plot muon veto "
   ]
  },
  {
   "cell_type": "code",
   "execution_count": null,
   "metadata": {},
   "outputs": [],
   "source": [
    "nBins    = 50\n",
    "bin_lo   = 0 \n",
    "bin_high = 500 \n",
    "\n",
    "h = hist.Hist(\"Events\",\n",
    "              hist.Cat(\"sample\",\"sample\"), \n",
    "              hist.Bin(\"pt\", \"Muon veto pT[GeV]\", nBins, bin_lo, bin_high)\n",
    "             )\n",
    "\n",
    "\n",
    "for i, sample in enumerate(tree.keys()):\n",
    "    \n",
    "    #See if we are treating data\n",
    "    isData = True if (\"data\" in sample) else False\n",
    "    \n",
    "    # build the selection arrays\n",
    "    sel_clusters, sel_jet, sel_ev = select_events(tree[sample],isData)\n",
    "\n",
    "    # get the Muon veto Pt\n",
    "    VetoPt = tree[sample].cscRechitClusterMuonVetoPt\n",
    "    \n",
    "    # Event and cluster selections (make sure we have a cluster [and matched to LLP in CSC] )\n",
    "    VetoPt = VetoPt[(sel_clusters) & (sel_ev)]\n",
    "    \n",
    "    # Select the VetoPt of the largest cluster \n",
    "    # fill_none puts -1 for events without clusters that satisfy the cluster cuts\n",
    "    VetoPt = ak.fill_none(ak.firsts(VetoPt,axis=1),-1 ) \n",
    "    \n",
    "    h.fill(sample=sample,pt=VetoPt)"
   ]
  },
  {
   "cell_type": "code",
   "execution_count": null,
   "metadata": {},
   "outputs": [],
   "source": [
    "ax = hist.plot1d(h,density=True)\n",
    "ax.set_ylabel(\"Fraction of events / bin width\")\n",
    "ax.set_yscale(\"log\")\n",
    "ax.set_ylim(1e-5,0.1)\n",
    "hep.cms.label(ax=ax,label=\"Preliminary\") "
   ]
  },
  {
   "cell_type": "markdown",
   "metadata": {},
   "source": [
    "# Q: What are the efficiencies Muon veto pT < 20 GeV?"
   ]
  },
  {
   "cell_type": "code",
   "execution_count": null,
   "metadata": {},
   "outputs": [],
   "source": [
    "# Hint: use integral_low and integral\n",
    "\n",
    "for i, sample in enumerate(tree.keys()):\n",
    "    # Fill code here\n",
    "    eff = integral_low(h,sample,20)/integral(h,sample,0)\n",
    "    print(\"sample = %s, eff(Muon VetoPT < 20) = %.5f \"%(sample, eff))"
   ]
  },
  {
   "cell_type": "markdown",
   "metadata": {},
   "source": [
    "# Ex2 - plot number of ME11 and ME12 hits in the cluster\n",
    "\n",
    "Additionally, punch-through jets or muon bremsstrahlung showers *might not get reconstructed as jets and muons*.\n",
    "\n",
    "To fully remove these background, we remove clusters that have hits in the first CSC stations (ME11/ME12) that have little shielding in front.\n",
    "\n",
    "In this exercise, you will plot the number of ME11/ME12 hits in clusters for signal and background and apply a selection on the two variables to remove clusters from jets and muons."
   ]
  },
  {
   "cell_type": "markdown",
   "metadata": {},
   "source": [
    "## plot number of ME11 and ME12 hits in cluster\n",
    "\n",
    " - Access the number of chamber hits in the cluster with the following variables:\n",
    "   - `cscRechitClusterNRechitChamberPlus11`\n",
    "   - `cscRechitClusterNRechitChamberMinus11`\n",
    "   - `cscRechitClusterNRechitChamberPlus12`\n",
    "   - `cscRechitClusterNRechitChamberMinus12`"
   ]
  },
  {
   "cell_type": "code",
   "execution_count": null,
   "metadata": {},
   "outputs": [],
   "source": [
    "nBins    = 50\n",
    "bin_lo   = 0 \n",
    "bin_high = 50\n",
    "\n",
    "h = hist.Hist(\"Events\",\n",
    "              hist.Cat(\"sample\",\"sample\"), \n",
    "              hist.Bin(\"nME11_12\", r\"$N_{Me11/12 hits}$\", nBins, bin_lo, bin_high)\n",
    "             )\n",
    "\n",
    "\n",
    "for i, sample in enumerate(tree.keys()):\n",
    "    \n",
    "    #See if we are treating data\n",
    "    isData = True if (\"data\" in sample) else False\n",
    "    \n",
    "    # build the selection arrays\n",
    "    sel_clusters, sel_jet, sel_ev = select_events(tree[sample],isData)\n",
    "\n",
    "    # Compute nME11_12\n",
    "    nME11_12 = tree[sample].cscRechitClusterNRechitChamberPlus11+\\\n",
    "            tree[sample].cscRechitClusterNRechitChamberMinus11+\\\n",
    "            tree[sample].cscRechitClusterNRechitChamberPlus12+\\\n",
    "            tree[sample].cscRechitClusterNRechitChamberMinus12\n",
    "    \n",
    "    # Event and cluster selections (make sure we have a cluster [and matched to LLP in CSC] )\n",
    "    nME11_12 = nME11_12[(sel_clusters) & (sel_ev)]\n",
    "    \n",
    "    # Select the VetoPt of the largest cluster \n",
    "    # fill_none puts -1 for events without clusters that satisfy the cluster cuts\n",
    "    nME11_12 = ak.fill_none(ak.firsts(nME11_12,axis=1),-1 ) \n",
    "    \n",
    "    h.fill(sample=sample,nME11_12=nME11_12)"
   ]
  },
  {
   "cell_type": "code",
   "execution_count": null,
   "metadata": {},
   "outputs": [],
   "source": [
    "ax = hist.plot1d(h,density=True)\n",
    "ax.set_ylabel(\"Fraction of events / bin width\")\n",
    "ax.set_yscale(\"log\")\n",
    "ax.set_ylim(1e-4,1)\n",
    "hep.cms.label(ax=ax,label=\"Preliminary\") "
   ]
  },
  {
   "cell_type": "markdown",
   "metadata": {},
   "source": [
    "# Q: What are the efficiencies for nME11_12 ==0?"
   ]
  },
  {
   "cell_type": "code",
   "execution_count": null,
   "metadata": {},
   "outputs": [],
   "source": [
    "# Hint: use integral_low and integral\n",
    "\n",
    "for i, sample in enumerate(tree.keys()):\n",
    "    # Fill code here\n",
    "    eff = integral_low(h,sample,1)/integral(h,sample,0)\n",
    "    print(\"sample = %s, eff(nME11_12 ==0) = %.5f \"%(sample, eff))"
   ]
  },
  {
   "cell_type": "markdown",
   "metadata": {},
   "source": [
    "# Ex3 - plot cluster eta\n",
    "\n",
    "After we removed punch-through jets and muon brems, we observed that there are a lot more backgorund in higer $\\eta$ region, where the muon reconstruction efficiency is lower and more pileup particles are present to create clusters.\n",
    "\n",
    "In this exercise you will plot the cluster $\\eta$ for signal and background and apply a selection on the variable to remove clusters from high $\\eta$ region."
   ]
  },
  {
   "cell_type": "code",
   "execution_count": null,
   "metadata": {},
   "outputs": [],
   "source": [
    "nBins    = 50\n",
    "bin_lo   = 0.5 \n",
    "bin_high = 3\n",
    "\n",
    "h = hist.Hist(\"Events\",\n",
    "              hist.Cat(\"sample\",\"sample\"), \n",
    "              hist.Bin(\"eta\", r\"cluster $\\eta$\", nBins, bin_lo, bin_high)\n",
    "             )\n",
    "\n",
    "\n",
    "for i, sample in enumerate(tree.keys()):\n",
    "    \n",
    "    #See if we are treating data\n",
    "    isData = True if (\"data\" in sample) else False\n",
    "    \n",
    "    # build the selection arrays\n",
    "    sel_clusters, sel_jet, sel_ev = select_events(tree[sample],isData)\n",
    "\n",
    "    # Get cluster Eta\n",
    "    clsEta = tree[sample].cscRechitClusterEta\n",
    "    \n",
    "    # Event and cluster selections (make sure we have a cluster [and matched to LLP in CSC] )\n",
    "    clsEta = clsEta[(sel_clusters) & (sel_ev)]\n",
    "    \n",
    "    # Select the VetoPt of the largest cluster \n",
    "    # fill_none puts -1 for events without clusters that satisfy the cluster cuts\n",
    "    clsEta = ak.fill_none(ak.firsts(clsEta,axis=1),-1 ) \n",
    "    \n",
    "    h.fill(sample=sample,eta=clsEta)"
   ]
  },
  {
   "cell_type": "code",
   "execution_count": null,
   "metadata": {},
   "outputs": [],
   "source": [
    "ax = hist.plot1d(h,density=True)\n",
    "ax.set_ylabel(\"Fraction of events / bin width\")\n",
    "ax.set_yscale(\"log\")\n",
    "ax.set_ylim(1e-4,10)\n",
    "hep.cms.label(ax=ax,label=\"Preliminary\") "
   ]
  },
  {
   "cell_type": "markdown",
   "metadata": {},
   "source": [
    "# Q: What are the efficiencies for $abs(\\eta)<2$ ?"
   ]
  },
  {
   "cell_type": "code",
   "execution_count": null,
   "metadata": {},
   "outputs": [],
   "source": [
    "# Hint: use integral_low and integral\n",
    "\n",
    "for i, sample in enumerate(tree.keys()):\n",
    "    # Fill code here\n",
    "    eff = integral_low(h,sample,2.0)/integral(h,sample,0.5)\n",
    "    print(r'sample = %s, eff(abs($\\eta$)<2 ==0) = %.5f '%(sample, eff))"
   ]
  },
  {
   "cell_type": "markdown",
   "metadata": {},
   "source": [
    "# Ex4 - plot cluster time (after vetos are applied)\n",
    "\n",
    "The remaining background clusters after punch-through jet and muon brem showers from the main collision are removed, are from low pT particles in pileup events.\n",
    "\n",
    "To verify this, you will plot the cluster time for signal and background, after applying the vetoes, in this exercise to check for any out-of-time pileup contributions in data.\n"
   ]
  },
  {
   "cell_type": "code",
   "execution_count": null,
   "metadata": {},
   "outputs": [],
   "source": [
    "nBins    = 50\n",
    "bin_lo   = -100 \n",
    "bin_high = 100\n",
    "\n",
    "h = hist.Hist(\"Events\",\n",
    "              hist.Cat(\"sample\",\"sample\"), \n",
    "              hist.Bin(\"time\", r\"cluster time[ns]\", nBins, bin_lo, bin_high)\n",
    "             )\n",
    "\n",
    "\n",
    "for i, sample in enumerate(tree.keys()):\n",
    "    \n",
    "    #See if we are treating data\n",
    "    isData = True if (\"data\" in sample) else False\n",
    "    \n",
    "    # build the selection arrays\n",
    "    sel_clusters, sel_jet, sel_ev = select_events(tree[sample],isData)\n",
    "\n",
    "    # Get Variables\n",
    "    clsTime  = tree[sample].cscRechitClusterTime\n",
    "    jetVeto  = tree[sample].cscRechitClusterJetVetoPt\n",
    "    muonVeto = tree[sample].cscRechitClusterMuonVetoPt \n",
    "    clsEta   = tree[sample].cscRechitClusterEta    \n",
    "    \n",
    "    # Apply cluster selection\n",
    "    clsTime = clsTime[(sel_clusters) & (jetVeto<10) & (muonVeto<20) & (clsEta<2)& (sel_ev)]\n",
    "    \n",
    "    # Select the VetoPt of the largest cluster \n",
    "    # fill_none puts -1 for events without clusters that satisfy the cluster cuts\n",
    "    clsTime = ak.fill_none(ak.firsts(clsTime,axis=1),-999 ) \n",
    "    \n",
    "    h.fill(sample=sample,time=clsTime)"
   ]
  },
  {
   "cell_type": "code",
   "execution_count": null,
   "metadata": {},
   "outputs": [],
   "source": [
    "ax = hist.plot1d(h,density=True)\n",
    "ax.set_ylabel(\"Fraction of events / bin width\")\n",
    "hep.cms.label(ax=ax,label=\"Preliminary\") "
   ]
  },
  {
   "cell_type": "markdown",
   "metadata": {},
   "source": [
    "# Q: What are the efficiencies for $-5<t<12.5$ ns ?"
   ]
  },
  {
   "cell_type": "code",
   "execution_count": null,
   "metadata": {},
   "outputs": [],
   "source": [
    "def integral_range(h,sample,thres_lo,thres_high):\n",
    "    \n",
    "    name = h.dense_axes()[0].name\n",
    "\n",
    "    numer = h.integrate(\"sample\",sample).integrate(name,slice(thres_lo,thres_high)).values()[()]\n",
    "    denom = h.integrate(\"sample\",sample).sum(name,overflow=\"over\").values()[()]    \n",
    "\n",
    "    return numer/denom\n",
    "\n",
    "for i, sample in enumerate(tree.keys()):\n",
    "    # Fill code here\n",
    "    eff = integral_range(h,sample,-5,12.5)/integral(h,sample,None)\n",
    "    print(r'sample = %s, eff( -5<t<12.5 ==0) = %.5f '%(sample, eff))"
   ]
  },
  {
   "cell_type": "markdown",
   "metadata": {},
   "source": [
    "# Q: Can you suggest an out-of-time validation region based on the above plot?\n",
    "\n",
    "A good validation region needs to have:\n",
    " - No (or at least small) signal conteminations (i.e. signal depleted) \n",
    " - Similar background composition as your signal-rich region"
   ]
  },
  {
   "cell_type": "markdown",
   "metadata": {},
   "source": [
    "# Ex5 - plot $\\Delta\\phi\\mathrm{(cluster, MET)}$ and $N_{hits}$ in Out-of-time Validation Region (final discriminating variables)\n",
    "\n",
    "\n",
    "The final discriminating variables that we will use to extract the signal and estimate background are \n",
    " - the number of hits in the cluster ($N_{\\text{hits}}$) and\n",
    " - the azimuthal angle between the cluster and MET ( $\\Delta\\phi\\text{(cluster, MET)}$).\n",
    "\n",
    "The background estimation method will be described in more detail in the next episode.\n",
    "\n",
    "In this exercise, we will just plot the distributions of the two variables, to understand the shape of the two variables."
   ]
  },
  {
   "cell_type": "markdown",
   "metadata": {},
   "source": [
    "## Plot data only in OOT region to avoid unblinding!"
   ]
  },
  {
   "cell_type": "markdown",
   "metadata": {},
   "source": [
    "## plot $N_{hits}$"
   ]
  },
  {
   "cell_type": "code",
   "execution_count": null,
   "metadata": {},
   "outputs": [],
   "source": [
    "nBins    = 50\n",
    "bin_lo   = 50\n",
    "bin_high = 1000\n",
    "\n",
    "h = hist.Hist(\"Events\",\n",
    "              hist.Cat(\"sample\",\"sample\"), \n",
    "              hist.Bin(\"nhits\", r\"$N_{hits}$\", nBins, bin_lo, bin_high)\n",
    "             )\n",
    "\n",
    "\n",
    "for i, sample in enumerate(tree.keys()):\n",
    "    \n",
    "    #See if we are treating data\n",
    "    isData = True if (\"data\" in sample) else False\n",
    "    \n",
    "    # build the selection arrays\n",
    "    sel_clusters, sel_jet, sel_ev = select_events(tree[sample],isData)\n",
    "\n",
    "    # Get Variables\n",
    "    nhits    = tree[sample].cscRechitClusterSize\n",
    "    clsTime  = tree[sample].cscRechitClusterTime\n",
    "    jetVeto  = tree[sample].cscRechitClusterJetVetoPt\n",
    "    muonVeto = tree[sample].cscRechitClusterMuonVetoPt \n",
    "    clsEta   = tree[sample].cscRechitClusterEta    \n",
    "\n",
    "    \n",
    "    # Only plot Out-of-Time(OOT) region\n",
    "    if isData:\n",
    "        sel_time = clsTime< -12.5\n",
    "    else:\n",
    "        sel_time = clsTime> -5        \n",
    "        \n",
    "    # Apply cluster selection\n",
    "    nhits = nhits[(sel_clusters) & (sel_time) & (jetVeto<10) & (muonVeto<20) & (clsEta<2)& (sel_ev)]\n",
    "    \n",
    "    # Select the VetoPt of the largest cluster \n",
    "    # fill_none puts -1 for events without clusters that satisfy the cluster cuts\n",
    "    nhits = ak.fill_none(ak.firsts(nhits,axis=1),-1 ) \n",
    "    \n",
    "    h.fill(sample=sample,nhits=nhits)"
   ]
  },
  {
   "cell_type": "code",
   "execution_count": null,
   "metadata": {},
   "outputs": [],
   "source": [
    "ax = hist.plot1d(h,density=True)\n",
    "ax.set_ylabel(\"Fraction of events / bin width\")\n",
    "ax.set_yscale(\"log\")\n",
    "ax.set_ylim(1e-4,0.1)\n",
    "hep.cms.label(ax=ax,label=\"Preliminary\") "
   ]
  },
  {
   "cell_type": "markdown",
   "metadata": {},
   "source": [
    "# Q: What are the efficiencies for $N_{hits}>130$ ?\n"
   ]
  },
  {
   "cell_type": "code",
   "execution_count": null,
   "metadata": {},
   "outputs": [],
   "source": [
    "for i, sample in enumerate(tree.keys()):\n",
    "    # Fill code here\n",
    "    eff = integral(h,sample,130)/integral(h,sample,None)\n",
    "    print(r'sample = %s, eff($N_{hits}>130$) = %.5f '%(sample, eff))"
   ]
  },
  {
   "cell_type": "markdown",
   "metadata": {},
   "source": [
    "## plot abs($\\Delta\\phi\\mathrm{(cluster, MET)}$)"
   ]
  },
  {
   "cell_type": "code",
   "execution_count": null,
   "metadata": {},
   "outputs": [],
   "source": [
    "nBins    = 50\n",
    "bin_lo   = 0\n",
    "bin_high = 3.2\n",
    "\n",
    "h = hist.Hist(\"Events\",\n",
    "              hist.Cat(\"sample\",\"sample\"), \n",
    "              hist.Bin(\"dphi\", r\"$\\Delta\\phi(cls,MET)$\", nBins, bin_lo, bin_high)\n",
    "             )\n",
    "\n",
    "\n",
    "for i, sample in enumerate(tree.keys()):\n",
    "    \n",
    "    #See if we are treating data\n",
    "    isData = True if (\"data\" in sample) else False\n",
    "    \n",
    "    # build the selection arrays\n",
    "    sel_clusters, sel_jet, sel_ev = select_events(tree[sample],isData)\n",
    "\n",
    "    # Get Variables\n",
    "    dphi     = abs(tree[sample].cscRechitClusterMet_dPhi)\n",
    "    nhits    = tree[sample].cscRechitClusterSize\n",
    "    clsTime  = tree[sample].cscRechitClusterTime\n",
    "    jetVeto  = tree[sample].cscRechitClusterJetVetoPt\n",
    "    muonVeto = tree[sample].cscRechitClusterMuonVetoPt \n",
    "    clsEta   = tree[sample].cscRechitClusterEta    \n",
    "\n",
    "    \n",
    "    # Only plot Out-of-Time(OOT) region\n",
    "    if isData:\n",
    "        sel_time = clsTime< -12.5\n",
    "    else:\n",
    "        sel_time = clsTime> -5        \n",
    "        \n",
    "    # Apply cluster selection\n",
    "    dphi = dphi[(sel_clusters) & (sel_time) & (jetVeto<10) & (muonVeto<20) & (clsEta<2)& (sel_ev)]\n",
    "    \n",
    "    # Select the VetoPt of the largest cluster \n",
    "    # fill_none puts -1 for events without clusters that satisfy the cluster cuts\n",
    "    dphi = ak.fill_none(ak.firsts(dphi,axis=1),-999 ) \n",
    "    \n",
    "    h.fill(sample=sample,dphi=dphi)"
   ]
  },
  {
   "cell_type": "code",
   "execution_count": null,
   "metadata": {},
   "outputs": [],
   "source": [
    "ax = hist.plot1d(h,density=True)\n",
    "ax.set_ylabel(\"Fraction of events / bin width\")\n",
    "hep.cms.label(ax=ax,label=\"Preliminary\") "
   ]
  },
  {
   "cell_type": "markdown",
   "metadata": {},
   "source": [
    "# Q: What are the efficiencies for $abs(\\Delta\\phi(cls,MET)<0.75)$ ?\n"
   ]
  },
  {
   "cell_type": "code",
   "execution_count": null,
   "metadata": {},
   "outputs": [],
   "source": [
    "for i, sample in enumerate(tree.keys()):\n",
    "    # Fill code here\n",
    "    eff = integral_low(h,sample,0.75)/integral(h,sample,None)\n",
    "    print(r'sample = %s, eff($abs(\\Delta\\phi(cls,MET)<0.75)$) = %.5f '%(sample, eff))"
   ]
  },
  {
   "cell_type": "code",
   "execution_count": null,
   "metadata": {},
   "outputs": [],
   "source": []
  }
 ],
 "metadata": {
  "kernelspec": {
   "display_name": "Python 3 (ipykernel)",
   "language": "python",
   "name": "python3"
  },
  "language_info": {
   "codemirror_mode": {
    "name": "ipython",
    "version": 3
   },
   "file_extension": ".py",
   "mimetype": "text/x-python",
   "name": "python",
   "nbconvert_exporter": "python",
   "pygments_lexer": "ipython3",
   "version": "3.9.12"
  }
 },
 "nbformat": 4,
 "nbformat_minor": 4
}
