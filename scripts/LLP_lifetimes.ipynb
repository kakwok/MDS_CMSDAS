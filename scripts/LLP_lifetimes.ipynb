{
 "cells": [
  {
   "cell_type": "code",
   "execution_count": 1,
   "id": "94f2bec9",
   "metadata": {},
   "outputs": [
    {
     "name": "stdout",
     "output_type": "stream",
     "text": [
      "Welcome to JupyROOT 6.30/02\n",
      "3.9.12 (main, Jul 11 2023, 14:37:47) \n",
      "[GCC 11.3.0]\n"
     ]
    }
   ],
   "source": [
    "import ROOT as rt\n",
    "import uproot\n",
    "import numpy as np\n",
    "from collections import OrderedDict\n",
    "import os\n",
    "import sys\n",
    "from array import array\n",
    "sys.path.append(os.getcwd().replace('scripts', 'lib'))\n",
    "\n",
    "import tdrstyle\n",
    "a = tdrstyle.setTDRStyle()\n",
    "\n",
    "print(sys.version)"
   ]
  },
  {
   "cell_type": "markdown",
   "id": "bde65778",
   "metadata": {},
   "source": [
    "# load signal ntuples"
   ]
  },
  {
   "cell_type": "markdown",
   "id": "5b7d181a",
   "metadata": {},
   "source": [
    "Load signal ntuples with 4 different LLP lifetimes (0.1, 1, 10, 100m) that contain generator-level LLP information"
   ]
  },
  {
   "cell_type": "code",
   "execution_count": 2,
   "id": "eba8b560",
   "metadata": {},
   "outputs": [],
   "source": [
    "fpath =OrderedDict()\n",
    "tree = OrderedDict()\n",
    "\n",
    "mass = [40]\n",
    "\n",
    "OLD_CTAU = np.array([100, 1000, 10000, 100000])#in mm\n",
    "\n",
    "path = '/eos/uscms/store/user/cmsdas/2025/long_exercises/MDS/signal/nocuts/'\n",
    "\n",
    "for ct in OLD_CTAU:\n",
    "    key = 'MC_40_'+str(ct)                       \n",
    "    fpath[key] = path +  'ggH_HToSSTobbbb_MH-125_MS-40_ctau-'+str(ct)+'_137000pb_weighted.root'\n",
    "\n",
    "    \n",
    "NEvents = {}\n",
    "NEvents_genweight = {}\n",
    "for k,v in fpath.items():\n",
    "    root_dir = uproot.open(v) \n",
    "    if not root_dir: \n",
    "        print(k, \"zombie\")\n",
    "        continue\n",
    "    tree[k] = root_dir['MuonSystem']\n"
   ]
  },
  {
   "cell_type": "markdown",
   "id": "be28af9b",
   "metadata": {},
   "source": [
    "# Ex1 - calculate the LLP proper decay length from the LLP four momentum"
   ]
  },
  {
   "cell_type": "markdown",
   "id": "a471a235",
   "metadata": {},
   "source": [
    "Here you will calculate the LLP proper decay length by converting from the lab frame decay length to the decay length in the LLP's rest frame, with the following equation:\n",
    "$d = \\beta\\gamma\\tau$, where d is the lab frame decay length, $\\beta$ is the LLP velocity, $\\gamma$ is the LLP Lorentz factor, and $\\tau$ is the LLP proper decay lifetime.\n",
    "\n",
    "You will use the following branches in the ROOT tree \n",
    "* `gLLP_decay_vertex_x`, in units of cm\n",
    "* `gLLP_decay_vertex_y`, in units of cm\n",
    "* `gLLP_decay_vertex_z`, in units of cm\n",
    "* `gLLP_beta` , ranges from 0 to 1"
   ]
  },
  {
   "cell_type": "code",
   "execution_count": 3,
   "id": "ae91f987",
   "metadata": {},
   "outputs": [],
   "source": [
    "gLLP_ctau = {}\n",
    "for k, T in tree.items():\n",
    "    gLLP_decay_vertex = np.sqrt(T['gLLP_decay_vertex_x'].array()**2 + T['gLLP_decay_vertex_y'].array()**2 + T['gLLP_decay_vertex_z'].array()**2)\n",
    "    gLLP_gamma = 1.0/np.sqrt(1-T['gLLP_beta'].array()**2)\n",
    "    gLLP_ctau[k] = gLLP_decay_vertex/(T['gLLP_beta'].array()*gLLP_gamma)"
   ]
  },
  {
   "cell_type": "markdown",
   "id": "b2c6fa31",
   "metadata": {},
   "source": [
    "# Ex1 - plot the LLP proper decay length"
   ]
  },
  {
   "cell_type": "markdown",
   "id": "52051e39",
   "metadata": {},
   "source": [
    "In this exercise, you will plot the `gLLP_ctau` array for 1m and 10m sample.\n",
    "You will then perform an exponential fit to verify that the shape is exponential and linear in logY scale.\n",
    "From the exponential fit, you can extract the mean proper decay length of the LLP and verify that it agrees with what you expect from the sample (1m or 10m)\n"
   ]
  },
  {
   "cell_type": "code",
   "execution_count": 4,
   "id": "584cf784",
   "metadata": {},
   "outputs": [
    {
     "name": "stdout",
     "output_type": "stream",
     "text": [
      "sample: MC_40_1000, fitted ctau [mm]: 1005.8581687683908\n",
      "sample: MC_40_10000, fitted ctau [mm]: 9850.009524016883\n",
      "CPU times: user 1.73 s, sys: 28.6 ms, total: 1.76 s\n",
      "Wall time: 1.84 s\n",
      "****************************************\n",
      "Minimizer is Minuit2 / Migrad\n",
      "Chi2                      =      5.34614\n",
      "NDf                       =            9\n",
      "Edm                       =  4.24613e-07\n",
      "NCalls                    =           60\n",
      "Constant                  =    0.0345747   +/-   0.0151348   \n",
      "Slope                     =  -0.00994176   +/-   0.000104533 \n",
      "****************************************\n",
      "Minimizer is Minuit2 / Migrad\n",
      "Chi2                      =      67.3153\n",
      "NDf                       =           76\n",
      "Edm                       =  7.06554e-08\n",
      "NCalls                    =           62\n",
      "Constant                  =     -2.29332   +/-   0.0140799   \n",
      "Slope                     =  -0.00101523   +/-   1.00523e-05 \n"
     ]
    },
    {
     "data": {
      "image/png": "[encoded data removed]",
      "text/plain": [
       "<IPython.core.display.Image object>"
      ]
     },
     "metadata": {},
     "output_type": "display_data"
    }
   ],
   "source": [
    "%%time\n",
    "\n",
    "Nevents_todraw = 10000\n",
    "c = rt.TCanvas('c','c', 800, 600)\n",
    "h = {}\n",
    "\n",
    "for i, k in enumerate([ 'MC_40_1000', 'MC_40_10000']):\n",
    "    h[k] = rt.TH1D('', '', 100, 0, 10000)\n",
    "    h[k].SetXTitle('LLP c#tau [cm]')\n",
    "    h[k].SetYTitle('fraction of events')\n",
    "    for j in range(Nevents_todraw): h[k].Fill(gLLP_ctau[k][j][0])\n",
    "    h[k].Scale(1./h[k].Integral())\n",
    "    h[k].SetLineColor(i+1)\n",
    "    h[k].Draw('hist same')\n",
    "\n",
    "    ####### perform exponential fit ######\n",
    "    h[k].Fit('expo')\n",
    "    fit = h[k].GetFunction('expo')\n",
    "    print(\"sample: {}, fitted ctau [mm]: {}\".format(k, -1./fit.GetParameter(1)*10))\n",
    "    #######################################\n",
    "    \n",
    "c.SetLogy()\n",
    "c.Draw()\n"
   ]
  },
  {
   "cell_type": "markdown",
   "id": "cdd3943b",
   "metadata": {},
   "source": [
    "# Ex2 - reweight LLP lifetime "
   ]
  },
  {
   "cell_type": "markdown",
   "id": "81bc265e",
   "metadata": {},
   "source": [
    "In this exercise you will learn how to reweight the LLP lifetime.\n",
    "\n",
    "In these signal events, there are two LLPs and the decay position of the two LLPs in each event are independent, and each LLP decays with an exponential probability, the distribution of events is simply the product of the two LLP decay probabilities:\n",
    "\\begin{equation}\n",
    "  p(t_1, t_2 | \\tau) = \\frac{1}{\\tau^2}\\exp^{-t_1/\\tau}\\exp^{-t_2/\\tau}\n",
    "\\end{equation}\n",
    "where $\\tau$ is the mean proper decay length of the LLPs, and $t_1$ and $t_2$ are the lifetimes of the first LLP and second LLP in their own rest frame respectively, which are the `gLLP_ctau` variable that you have calculated in Ex1.\n",
    "\n",
    "To obtain a sample with lifetime $\\tau_{new}$ from a sample with lifetime $\\tau_{old}$, we\n",
    "assign a weight, which is the ratio between equation above with parameter $\\tau_{new}$\n",
    "and:\n",
    "\\begin{equation}\n",
    "  w = (\\frac{\\tau_{old}}{\\tau_{new}})^2 \\exp[(t_1+t_2)\\times(\\frac{1}{\\tau_{old}}-\\frac{1}{\\tau_{new}})]\n",
    "\\end{equation}\n",
    "\n",
    "You will implement this equation in the function `weight_calc` below"
   ]
  },
  {
   "cell_type": "code",
   "execution_count": 5,
   "id": "9a3c81f4",
   "metadata": {},
   "outputs": [],
   "source": [
    "'''\n",
    "arguements: \n",
    "llp_ctau is the list of sum of proper decay length, which is t1+t2 in the equation\n",
    "new_ctau is tau_new in the equation\n",
    "old_ctau is tau_old in the equation\n",
    "All units in cm\n",
    "\n",
    "return event weight \n",
    "\n",
    "'''\n",
    "\n",
    "\n",
    "def weight_calc(llp_ct, new_ctau, old_ctau):\n",
    "    source = np.exp(-1.0*llp_ct/old_ctau)/old_ctau**2\n",
    "    weight = 1.0/new_ctau**2 * np.exp(-1.0*llp_ct/new_ctau)/source\n",
    "    return weight"
   ]
  },
  {
   "cell_type": "markdown",
   "id": "1305a443",
   "metadata": {},
   "source": [
    "## reweight from 10m to 1m"
   ]
  },
  {
   "cell_type": "markdown",
   "id": "73250f58",
   "metadata": {},
   "source": [
    "In this exercise you will use the reweighting function that you have just implemented to reweight the 10m sample to 1m and plot it against the original 1m sample to validate the reweighting function\n",
    "You will then perform an exponential fit to verify that the extracted mean proper decay length of the LLP is 1m for both"
   ]
  },
  {
   "cell_type": "code",
   "execution_count": 21,
   "id": "85626fb4",
   "metadata": {},
   "outputs": [
    {
     "name": "stdout",
     "output_type": "stream",
     "text": [
      "sample: MC_40_1000, fitted ctau [mm]: 1001.191672678267\n",
      "sample: MC_40_10000, fitted ctau [mm]: 977.1577014815783\n",
      "CPU times: user 4.93 s, sys: 22.8 ms, total: 4.95 s\n",
      "Wall time: 4.94 s\n",
      " FCN=62.0214 FROM MIGRAD    STATUS=CONVERGED      54 CALLS          55 TOTAL\n",
      "                     EDM=4.31598e-07    STRATEGY= 1      ERROR MATRIX ACCURATE \n",
      "  EXT PARAMETER                                   STEP         FIRST   \n",
      "  NO.   NAME      VALUE            ERROR          SIZE      DERIVATIVE \n",
      "   1  Constant    -2.30848e+00   1.40586e-02   3.88781e-05   8.53937e-02\n",
      "   2  Slope       -9.98810e-03   9.89488e-05   2.73426e-07   4.86514e+00\n",
      " FCN=115.995 FROM MIGRAD    STATUS=CONVERGED      50 CALLS          51 TOTAL\n",
      "                     EDM=6.0767e-11    STRATEGY= 1      ERROR MATRIX ACCURATE \n",
      "  EXT PARAMETER                                   STEP         FIRST   \n",
      "  NO.   NAME      VALUE            ERROR          SIZE      DERIVATIVE \n",
      "   1  Constant    -2.37942e+00   5.14333e-02   1.58356e-04   3.66494e-04\n",
      "   2  Slope       -1.02338e-02   1.02612e-04   3.15960e-07   1.57845e-01\n"
     ]
    },
    {
     "name": "stderr",
     "output_type": "stream",
     "text": [
      "Warning in <TCanvas::Constructor>: Deleting canvas with same name: c\n"
     ]
    },
    {
     "data": {
      "image/png": "[encoded data removed]",
      "text/plain": [
       "<IPython.core.display.Image object>"
      ]
     },
     "metadata": {},
     "output_type": "display_data"
    }
   ],
   "source": [
    "%%time\n",
    "c = rt.TCanvas('c','c', 800, 600)\n",
    "h = {}\n",
    "Nevents_todraw = 10000\n",
    "\n",
    "for i, k in enumerate(['MC_40_1000', 'MC_40_10000']):\n",
    "    h[k] = rt.TH1D('', '', 100, 0, 1000)\n",
    "    h[k].SetXTitle('LLP c#tau [cm]')\n",
    "    h[k].SetYTitle('fraction of events')\n",
    "    \n",
    "    if k == 'MC_40_1000': \n",
    "        for j in range(Nevents_todraw): h[k].Fill(gLLP_ctau[k][j][0])\n",
    "    else: \n",
    "        weight = weight_calc(np.sum(gLLP_ctau[k], axis = 1), 100,1000)\n",
    "        for j in range(Nevents_todraw): h[k].Fill(gLLP_ctau[k][j][0], weight[j])\n",
    "    \n",
    "    h[k].Scale(1./h[k].Integral())\n",
    "    h[k].SetLineColor(i+1)\n",
    "    h[k].Draw('hist same')\n",
    "    \n",
    "\n",
    "    ####### perform exponential fit ######\n",
    "    h[k].Fit('expo')\n",
    "    fit = h[k].GetFunction('expo')\n",
    "    print(\"sample: {}, fitted ctau [mm]: {}\".format(k, -1./fit.GetParameter(1)*10))\n",
    "\n",
    "    #######################################\n",
    "    \n",
    "c.SetLogy()\n",
    "c.Draw()\n"
   ]
  },
  {
   "cell_type": "markdown",
   "id": "b7355d99",
   "metadata": {},
   "source": [
    "# Ex3 - Calculate the probability of LLP decaying in the muon system"
   ]
  },
  {
   "cell_type": "markdown",
   "id": "c1135a77",
   "metadata": {},
   "source": [
    "In this exercise you will calculate the probability of the LLP decaying in the muon system by requiring the LLP decay vertex lies within the Muon system.\n",
    "You will first define the geometric decay region of the muon system based on Fig. 4.1.1 on page 141 of the [Muon Detector Technical Design Report](https://cds.cern.ch/record/343814?ln=en) \n",
    "and calculate the probability of LLP decaying in the endcap muon detectors for LLP mean proper decay lenegths (0.1, 1, 10, 100m) that have been generated."
   ]
  },
  {
   "cell_type": "code",
   "execution_count": 22,
   "id": "d602ca12",
   "metadata": {},
   "outputs": [
    {
     "name": "stdout",
     "output_type": "stream",
     "text": [
      "MC_40_100 0.01048640863979646\n",
      "MC_40_1000 0.2217195242814668\n",
      "MC_40_10000 0.2173056519093299\n",
      "MC_40_100000 0.034945913899993554\n",
      "CPU times: user 6.04 s, sys: 125 ms, total: 6.17 s\n",
      "Wall time: 6.06 s\n"
     ]
    }
   ],
   "source": [
    "%%time\n",
    "\n",
    "for k, T in tree.items():\n",
    "    \n",
    "    # define endcap muon system region\n",
    "    sel_ms = np.logical_and(T['gLLP_eta'].array() <2.4, np.abs(T['gLLP_decay_vertex_z'].array()) < 1100)\n",
    "    sel_ms = np.logical_and(sel_ms, np.abs(T['gLLP_decay_vertex_z'].array()) > 400)\n",
    "    sel_ms = np.logical_and(sel_ms, np.abs(T['gLLP_decay_vertex_r'].array()) < 695.5)\n",
    "    print(k, np.count_nonzero(np.sum(sel_ms, axis = 1))/len(sel_ms))"
   ]
  },
  {
   "cell_type": "markdown",
   "id": "fa8e4097",
   "metadata": {},
   "source": [
    "## calulate acceptance vs LLP mean proper decay length"
   ]
  },
  {
   "cell_type": "markdown",
   "id": "2115d067",
   "metadata": {},
   "source": [
    "Here we will extend on what we just did to calculate the acceptance for intermediate $c\\tau$ by calling the \n",
    "reweighting function that you've written in the previous exercise to calculate the probability for other intermediate proper decay lengths."
   ]
  },
  {
   "cell_type": "code",
   "execution_count": 35,
   "id": "13c1d1f0",
   "metadata": {},
   "outputs": [
    {
     "name": "stdout",
     "output_type": "stream",
     "text": [
      "100 100\n",
      "300 1000\n",
      "500 1000\n",
      "1000 1000\n",
      "2000 10000\n",
      "5000 10000\n",
      "10000 10000\n",
      "50000 100000\n",
      "100000 100000\n",
      "500000 100000\n",
      "[100, 300, 500, 1000, 2000, 5000, 10000, 50000, 100000, 500000] [nan, 0.06518015, 0.12119633, 0.22171952, 0.30113977, 0.29137775, 0.21730565, 0.06569138, 0.034945913, 0.007605373]\n",
      "CPU times: user 18.8 s, sys: 547 ms, total: 19.4 s\n",
      "Wall time: 19 s\n"
     ]
    }
   ],
   "source": [
    "%%time\n",
    "\n",
    "ctau_list  = [100, 300, 500, 1000, 2000, 5000, 10000, 50000, 100000, 500000] #mm\n",
    "\n",
    "acceptance = []\n",
    "for ct in ctau_list:\n",
    "    # find which sample to use for reweighting\n",
    "    ct_source = 0\n",
    "    for i in OLD_CTAU:\n",
    "        if ct <= i: \n",
    "            ct_source = i\n",
    "            break\n",
    "    if ct_source == 0: ct_source = OLD_CTAU[-1]\n",
    "    print(ct, ct_source) #verify the correct sample is chosen\n",
    "    \n",
    "    T = tree['MC_40_{}'.format(ct_source)]\n",
    "    sel_ms = np.logical_and(T['gLLP_eta'].array() <2.4, np.abs(T['gLLP_decay_vertex_z'].array()) < 1100)\n",
    "    sel_ms = np.logical_and(sel_ms, np.abs(T['gLLP_decay_vertex_z'].array()) > 400)\n",
    "    sel_ms = np.logical_and(sel_ms, np.abs(T['gLLP_decay_vertex_r'].array()) < 695.5)\n",
    "    weight = weight_calc(np.sum(T['gLLP_ctau'].array(), axis = 1), ct/10. , ct_source/10.) #convert to cm\n",
    "    denominator = np.sum(weight)\n",
    "    nominator = np.sum(weight[np.sum(sel_ms, axis = 1)>0])\n",
    "    acceptance.append(nominator/denominator)\n",
    "print(ctau_list, acceptance)"
   ]
  },
  {
   "cell_type": "markdown",
   "id": "8eeb2302",
   "metadata": {},
   "source": [
    "## plot acceptance vs LLP mean proper decay length"
   ]
  },
  {
   "cell_type": "code",
   "execution_count": 36,
   "id": "e5fce4f5",
   "metadata": {},
   "outputs": [
    {
     "name": "stdout",
     "output_type": "stream",
     "text": [
      "CPU times: user 1.3 ms, sys: 0 ns, total: 1.3 ms\n",
      "Wall time: 1.29 ms\n"
     ]
    },
    {
     "name": "stderr",
     "output_type": "stream",
     "text": [
      "Warning in <TCanvas::Constructor>: Deleting canvas with same name: c\n"
     ]
    },
    {
     "data": {
      "image/png": "[encoded data removed]",
      "text/plain": [
       "<IPython.core.display.Image object>"
      ]
     },
     "metadata": {},
     "output_type": "display_data"
    }
   ],
   "source": [
    "%%time\n",
    "\n",
    "c = rt.TCanvas('c','c', 800, 800)\n",
    "c.SetRightMargin(0.04)\n",
    "\n",
    "h = rt.TGraph(len(ctau_list),array(\"d\", np.array(ctau_list)/1000.0), array(\"d\", acceptance))\n",
    "\n",
    "h.GetXaxis().SetTitle('c#tau [m]')\n",
    "h.GetYaxis().SetTitle('acceptance')\n",
    "h.GetXaxis().SetLimits(0.1,1000.0)\n",
    "h.GetYaxis().SetRangeUser(1e-3,2)\n",
    "\n",
    "h.GetXaxis().SetTitleOffset(1)\n",
    "h.GetYaxis().SetTitleSize(0.05)\n",
    "h.GetYaxis().SetTitleOffset(1.5)\n",
    "\n",
    "h.SetLineWidth(3)\n",
    "h.SetLineColor(4)\n",
    "h.SetMarkerColor(4)\n",
    "\n",
    "h.Draw('LPA')\n",
    "\n",
    "c.SetLogy()\n",
    "c.SetLogx()\n",
    "c.SetTicky(1)\n",
    "c.SetTickx(1)\n",
    "\n",
    "\n",
    "tdrstyle.setTDRStyle()\n",
    "c.Draw()"
   ]
  },
  {
   "cell_type": "code",
   "execution_count": null,
   "id": "743922b5",
   "metadata": {},
   "outputs": [],
   "source": []
  }
 ],
 "metadata": {
  "kernelspec": {
   "display_name": "Python 3 (ipykernel)",
   "language": "python",
   "name": "python3"
  },
  "language_info": {
   "codemirror_mode": {
    "name": "ipython",
    "version": 3
   },
   "file_extension": ".py",
   "mimetype": "text/x-python",
   "name": "python",
   "nbconvert_exporter": "python",
   "pygments_lexer": "ipython3",
   "version": "3.9.12"
  }
 },
 "nbformat": 4,
 "nbformat_minor": 5
}
